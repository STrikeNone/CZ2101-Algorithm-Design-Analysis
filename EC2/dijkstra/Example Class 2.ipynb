{
 "cells": [
  {
   "cell_type": "markdown",
   "id": "2311ba39",
   "metadata": {},
   "source": [
    "Generating the test cases"
   ]
  },
  {
   "cell_type": "code",
   "execution_count": 3,
   "id": "850ebbef",
   "metadata": {},
   "outputs": [
    {
     "name": "stdout",
     "output_type": "stream",
     "text": [
      "16341165\n"
     ]
    }
   ],
   "source": [
    "import random\n",
    "vertices = 10000\n",
    "test_type = \"random\"\n",
    "\n",
    "edges = random.randint(0, vertices * (vertices-1))\n",
    "\n",
    "print(edges)"
   ]
  },
  {
   "cell_type": "code",
   "execution_count": null,
   "id": "e72e9d62",
   "metadata": {},
   "outputs": [],
   "source": [
    "file = open(\"C://Users/yihao/Desktop/NTU Y2 S1/CZ2101 Algorithm Design and Analysis/Example Class/EC2/dijkstra/random.txt\",\"a\")\n",
    "all_eg = []\n",
    "while(edges > 0):\n",
    "    v1 = random.randint(1, vertices)\n",
    "    v2 = random.randint(1, vertices)\n",
    "    edge_value = random.randint(1, 100)\n",
    "\n",
    "    if(v1 != v2 and (v1, v2) not in all_eg):\n",
    "        file.write(\"{} {} {}\\n\".format(v1, v2, edge_value))\n",
    "        all_eg.append((v1, v2))\n",
    "        edges-=1\n",
    "file.close()"
   ]
  },
  {
   "cell_type": "code",
   "execution_count": null,
   "id": "3d03a8ee",
   "metadata": {},
   "outputs": [],
   "source": [
    "file = open(\"C://Users/yihao/Desktop/NTU Y2 S1/CZ2101 Algorithm Design and Analysis/Example Class/EC2/dijkstra/random.txt\",\"a\")\n",
    "for i in range(vertices):\n",
    "    for j in range(vertices):\n",
    "        if i != j:\n",
    "            edge_value = random.randint(1, 100)\n",
    "            file.write(\"{} {} {}\\n\".format(i+1, j+1, edge_value))\n",
    "\n",
    "file.close()"
   ]
  },
  {
   "cell_type": "markdown",
   "id": "81110c07",
   "metadata": {},
   "source": [
    "Reading the data"
   ]
  },
  {
   "cell_type": "code",
   "execution_count": 4,
   "id": "5396287e",
   "metadata": {},
   "outputs": [],
   "source": [
    "import pandas as pd\n",
    "data = pd.read_csv(\"data.txt\", delimiter = \",\")"
   ]
  },
  {
   "cell_type": "code",
   "execution_count": 6,
   "id": "f3039419",
   "metadata": {},
   "outputs": [],
   "source": [
    "worst = data[data['type'] == 'worst']\n",
    "best = data[data['type'] == 'best']\n",
    "avg = data[data['type'] == 'average']"
   ]
  },
  {
   "cell_type": "code",
   "execution_count": 7,
   "id": "dad7e28f",
   "metadata": {},
   "outputs": [],
   "source": [
    "values = []\n",
    "for i in worst['size'].unique():\n",
    "    avg_mean = avg[avg['size'] == i][\"time\"].mean()\n",
    "    worst_mean = worst[worst['size'] == i][\"time\"].mean()\n",
    "    best_mean = best[best['size'] == i][\"time\"].mean()\n",
    "    values.append([i, best_mean, \"best\"])\n",
    "    values.append([i, avg_mean, \"average\"])\n",
    "    values.append([i, worst_mean, \"worst\"])"
   ]
  },
  {
   "cell_type": "code",
   "execution_count": 8,
   "id": "479e5a8b",
   "metadata": {
    "scrolled": true
   },
   "outputs": [
    {
     "data": {
      "text/html": [
       "<div>\n",
       "<style scoped>\n",
       "    .dataframe tbody tr th:only-of-type {\n",
       "        vertical-align: middle;\n",
       "    }\n",
       "\n",
       "    .dataframe tbody tr th {\n",
       "        vertical-align: top;\n",
       "    }\n",
       "\n",
       "    .dataframe thead th {\n",
       "        text-align: right;\n",
       "    }\n",
       "</style>\n",
       "<table border=\"1\" class=\"dataframe\">\n",
       "  <thead>\n",
       "    <tr style=\"text-align: right;\">\n",
       "      <th></th>\n",
       "      <th>Size</th>\n",
       "      <th>Time</th>\n",
       "      <th>Type</th>\n",
       "    </tr>\n",
       "  </thead>\n",
       "  <tbody>\n",
       "    <tr>\n",
       "      <th>0</th>\n",
       "      <td>10</td>\n",
       "      <td>0.000001</td>\n",
       "      <td>best</td>\n",
       "    </tr>\n",
       "    <tr>\n",
       "      <th>1</th>\n",
       "      <td>10</td>\n",
       "      <td>0.000003</td>\n",
       "      <td>average</td>\n",
       "    </tr>\n",
       "    <tr>\n",
       "      <th>2</th>\n",
       "      <td>10</td>\n",
       "      <td>0.000001</td>\n",
       "      <td>worst</td>\n",
       "    </tr>\n",
       "    <tr>\n",
       "      <th>3</th>\n",
       "      <td>100</td>\n",
       "      <td>0.000042</td>\n",
       "      <td>best</td>\n",
       "    </tr>\n",
       "    <tr>\n",
       "      <th>4</th>\n",
       "      <td>100</td>\n",
       "      <td>0.000135</td>\n",
       "      <td>average</td>\n",
       "    </tr>\n",
       "  </tbody>\n",
       "</table>\n",
       "</div>"
      ],
      "text/plain": [
       "   Size      Time     Type\n",
       "0    10  0.000001     best\n",
       "1    10  0.000003  average\n",
       "2    10  0.000001    worst\n",
       "3   100  0.000042     best\n",
       "4   100  0.000135  average"
      ]
     },
     "execution_count": 8,
     "metadata": {},
     "output_type": "execute_result"
    }
   ],
   "source": [
    "results = pd.DataFrame(values, columns=['Size', 'Time', \"Type\"])\n",
    "results.head()"
   ]
  },
  {
   "cell_type": "code",
   "execution_count": 9,
   "id": "3b1b6e84",
   "metadata": {},
   "outputs": [],
   "source": [
    "results_10 = results[results[\"Size\"] == 10]\n",
    "results_100 = results[results[\"Size\"] == 100]\n",
    "results_1k = results[results[\"Size\"] == 1000]\n",
    "results_10k = results[results[\"Size\"] == 10000]\n"
   ]
  },
  {
   "cell_type": "code",
   "execution_count": 10,
   "id": "9c5bc76c",
   "metadata": {},
   "outputs": [
    {
     "data": {
      "image/png": "[encoded data removed]",
      "text/plain": [
       "<Figure size 864x504 with 4 Axes>"
      ]
     },
     "metadata": {
      "needs_background": "light"
     },
     "output_type": "display_data"
    }
   ],
   "source": [
    "import seaborn as sb\n",
    "import matplotlib.pyplot as plt\n",
    "\n",
    "fig, axs = plt.subplots(2, 2, figsize=(12, 7))\n",
    "\n",
    "\n",
    "axs[0, 0].set_title(\"Graph Size: 10\")\n",
    "axs[0, 1].set_title(\"Graph Size: 100\")\n",
    "axs[1, 0].set_title(\"Graph Size: 1000\")\n",
    "axs[1, 1].set_title(\"Graph Size: 10,000\")\n",
    "\n",
    "\n",
    "sb.barplot(data=results_10, y=\"Time\", x=\"Size\", hue=\"Type\", ax=axs[0, 0])\n",
    "sb.barplot(data=results_100, y=\"Time\", x=\"Size\", hue=\"Type\", ax=axs[0, 1])\n",
    "sb.barplot(data=results_1k, y=\"Time\", x=\"Size\", hue=\"Type\", ax=axs[1, 0])\n",
    "sb.barplot(data=results_10k, y=\"Time\", x=\"Size\", hue=\"Type\", ax=axs[1, 1])\n",
    "\n",
    "plt.tight_layout()"
   ]
  },
  {
   "cell_type": "code",
   "execution_count": null,
   "id": "925b0416",
   "metadata": {},
   "outputs": [],
   "source": []
  },
  {
   "cell_type": "code",
   "execution_count": 11,
   "id": "56f6f2e3",
   "metadata": {},
   "outputs": [
    {
     "data": {
      "text/plain": [
       "[<matplotlib.lines.Line2D at 0x286f8d3f130>]"
      ]
     },
     "execution_count": 11,
     "metadata": {},
     "output_type": "execute_result"
    },
    {
     "data": {
      "image/png": "[encoded data removed]",
      "text/plain": [
       "<Figure size 432x288 with 1 Axes>"
      ]
     },
     "metadata": {
      "needs_background": "light"
     },
     "output_type": "display_data"
    }
   ],
   "source": [
    "data2 = pd.read_csv(\"random.txt\")\n",
    "x = [i + 100 for i in range(len(data2))]\n",
    "plt.plot(data2['time'])"
   ]
  },
  {
   "cell_type": "code",
   "execution_count": 11,
   "id": "29586279",
   "metadata": {},
   "outputs": [],
   "source": [
    "import numpy as np\n",
    "def ema(dataframe, interval, smoothing=2):\n",
    "    '''\n",
    "    Exponential Moving Average \n",
    "    '''\n",
    "    multiplier = smoothing/(1 + interval)\n",
    "    \n",
    "    values = []\n",
    "    ema_value = 0\n",
    "    \n",
    "    for i in range(interval):\n",
    "        ema_value += dataframe[i]\n",
    "        \n",
    "        values.append(ema_value/(i+1))\n",
    "    \n",
    "    # Finding the Mean value for the initial ema\n",
    "    ema_value = ema_value / interval\n",
    "    \n",
    "    # Extracting the remaining EMA\n",
    "    for i in range(interval, len(dataframe)):\n",
    "        ema_value = multiplier * dataframe[i] + (1 - multiplier) * ema_value\n",
    "        values.append(ema_value)\n",
    "    \n",
    "    return np.array(values)"
   ]
  },
  {
   "cell_type": "markdown",
   "id": "7f089fcd",
   "metadata": {},
   "source": [
    "<b>Dijkstra Adjacency Matrix Code</b>"
   ]
  },
  {
   "cell_type": "code",
   "execution_count": 1,
   "id": "39055003",
   "metadata": {},
   "outputs": [],
   "source": [
    "import sys\n",
    " \n",
    "class Graph():\n",
    " \n",
    "    def __init__(self, vertices):\n",
    "        self.V = vertices\n",
    "        self.graph = [[0 for column in range(vertices)]\n",
    "                    for row in range(vertices)]\n",
    " \n",
    "    def printSolution(self, dist):\n",
    "        print(\"Vertex \\tDistance from Source\")\n",
    "        for node in range(self.V):\n",
    "            print(node, \"\\t\", dist[node])\n",
    " \n",
    "\n",
    "    def minDistance(self, dist, sptSet):\n",
    " \n",
    "        # Initialize minimum distance for next node\n",
    "        min = sys.maxsize\n",
    "        min_index=-1\n",
    "        # Search not nearest vertex not in the\n",
    "        # shortest path tree\n",
    "        for u in range(self.V):\n",
    "            if dist[u] < min and sptSet[u] == False:\n",
    "                min = dist[u]\n",
    "                min_index = u\n",
    "        return min_index\n",
    "\n",
    "\n",
    "    def dijkstra(self, src):\n",
    " \n",
    "        dist = [sys.maxsize] * self.V\n",
    "        dist[src] = 0\n",
    "        sptSet = [False] * self.V\n",
    " \n",
    "        for cout in range(self.V):\n",
    "\n",
    "            x = self.minDistance(dist, sptSet)\n",
    "            if(x == -1):\n",
    "                break\n",
    "\n",
    "            sptSet[x] = True\n",
    " \n",
    "\n",
    "            for y in range(self.V):\n",
    "                if self.graph[x][y] > 0 and sptSet[y] == False and \\\n",
    "                dist[y] > dist[x] + self.graph[x][y]:\n",
    "                        dist[y] = dist[x] + self.graph[x][y]\n",
    " \n",
    "        #self.printSolution(dist)\n",
    "\n",
    "    "
   ]
  },
  {
   "cell_type": "markdown",
   "id": "bb25a5ed",
   "metadata": {},
   "source": [
    "Generate Test Case"
   ]
  },
  {
   "cell_type": "code",
   "execution_count": 60,
   "id": "61fa5359",
   "metadata": {},
   "outputs": [],
   "source": [
    "import random\n",
    "\n",
    "def create_graph(vertices, typ = \"simple\", edge_count=0):\n",
    "    initialise = [[0 for column in range(vertices)]\n",
    "                    for row in range(vertices)]\n",
    "    \n",
    "    if typ == \"simple\":\n",
    "        for i in range(vertices-1):\n",
    "            initialise[i][i+1] = random.randint(1, 5000)\n",
    "\n",
    "        initialise[i+1][0] = random.randint(1, 5000)\n",
    "    \n",
    "    elif typ == \"rnd\":\n",
    "        edges = random.randint(1, vertices * (vertices-1))\n",
    "        while(edges > 0):\n",
    "            v1 = random.randint(0, vertices-1)\n",
    "            v2 = random.randint(0, vertices-1)\n",
    "            \n",
    "            if v1 != v2 and initialise[v1][v2] == 0:\n",
    "                initialise[v1][v2] = random.randint(1, 5000)\n",
    "                edges-=1\n",
    "                \n",
    "    elif typ == \"full\":\n",
    "        for i in range(vertices):\n",
    "            for j in range(vertices):\n",
    "                if i != j:\n",
    "                    initialise[i][j] = random.randint(1, 5000)\n",
    "    \n",
    "    elif typ == \"simple_edge_test\":\n",
    "        # ADD TO PARAMETER\n",
    "        i=0\n",
    "        for i in range(edge_count):\n",
    "            initialise[i][i+1] = random.randint(1, 5000)\n",
    "        \n",
    "        initialise[i+1][0] = random.randint(1, 5000)\n",
    "                \n",
    "    return initialise"
   ]
  },
  {
   "cell_type": "code",
   "execution_count": null,
   "id": "a2446483",
   "metadata": {},
   "outputs": [],
   "source": []
  },
  {
   "cell_type": "code",
   "execution_count": 70,
   "id": "56c646bf",
   "metadata": {
    "scrolled": false
   },
   "outputs": [],
   "source": [
    "import timeit\n",
    "\n",
    "timing = []\n",
    "\n",
    "for i in range(10, 1000):\n",
    "    size = 1000\n",
    "    input_graph = create_graph(size, \"simple_edge_test\", i)\n",
    "    source_node = 0\n",
    "    g = Graph(size)\n",
    "    g.graph = input_graph\n",
    "\n",
    "    start = timeit.default_timer()\n",
    "    g.dijkstra(source_node);\n",
    "    end = timeit.default_timer()\n",
    "\n",
    "    time_taken = end - start\n",
    "    timing.append(time_taken)\n",
    "        "
   ]
  },
  {
   "cell_type": "code",
   "execution_count": null,
   "id": "e965e03d",
   "metadata": {},
   "outputs": [],
   "source": []
  },
  {
   "cell_type": "markdown",
   "id": "5cd1bab6",
   "metadata": {},
   "source": [
    "<b>Visualising the results</b>"
   ]
  },
  {
   "cell_type": "code",
   "execution_count": 4,
   "id": "0f445753",
   "metadata": {},
   "outputs": [],
   "source": [
    "import pandas as pd\n",
    "res = pd.read_csv('pydata.txt', delimiter=',')\n",
    "res_10 = res[res['size'] == 10]\n",
    "res_100 = res[res['size'] == 100]\n",
    "res_1k = res[res['size'] == 1000]\n",
    "res_10k = res[res['size'] == 10000]"
   ]
  },
  {
   "cell_type": "code",
   "execution_count": 5,
   "id": "4f87df2c",
   "metadata": {},
   "outputs": [
    {
     "data": {
      "image/png": "[encoded data removed]",
      "text/plain": [
       "<Figure size 864x504 with 4 Axes>"
      ]
     },
     "metadata": {
      "needs_background": "light"
     },
     "output_type": "display_data"
    }
   ],
   "source": [
    "import seaborn as sb\n",
    "import matplotlib.pyplot as plt\n",
    "\n",
    "fig, axs = plt.subplots(2, 2, figsize=(12, 7))\n",
    "\n",
    "\n",
    "axs[0, 0].set_title(\"Graph Size: 10\")\n",
    "axs[0, 1].set_title(\"Graph Size: 100\")\n",
    "axs[1, 0].set_title(\"Graph Size: 1000\")\n",
    "axs[1, 1].set_title(\"Graph Size: 10,000\")\n",
    "\n",
    "axs[0,0].ticklabel_format(style='plain', axis='y')\n",
    "axs[0,1].ticklabel_format(style='plain', axis='y')\n",
    "axs[1,1].ticklabel_format(style='plain', axis='y')\n",
    "axs[1,0].ticklabel_format(style='plain', axis='y')\n",
    "\n",
    "sb.barplot(data=res_10, y=\"time\", x=\"size\", hue=\"class\", ax=axs[0, 0])\n",
    "sb.barplot(data=res_100, y=\"time\", x=\"size\", hue=\"class\", ax=axs[0, 1])\n",
    "sb.barplot(data=res_1k, y=\"time\", x=\"size\", hue=\"class\", ax=axs[1, 0])\n",
    "sb.barplot(data=res_10k, y=\"time\", x=\"size\", hue=\"class\", ax=axs[1, 1])\n",
    "\n",
    "\n",
    "plt.tight_layout()"
   ]
  },
  {
   "cell_type": "code",
   "execution_count": 96,
   "id": "3b65175d",
   "metadata": {},
   "outputs": [
    {
     "data": {
      "text/plain": [
       "Text(0, 0.5, 'Time Taken')"
      ]
     },
     "execution_count": 96,
     "metadata": {},
     "output_type": "execute_result"
    },
    {
     "data": {
      "image/png": "[encoded data removed]",
      "text/plain": [
       "<Figure size 432x288 with 1 Axes>"
      ]
     },
     "metadata": {
      "needs_background": "light"
     },
     "output_type": "display_data"
    }
   ],
   "source": [
    "plt.plot(timing)\n",
    "plt.title(\"Time vs Edge\")\n",
    "plt.xlabel(\"Edge Count\")\n",
    "plt.ylabel(\"Time Taken\")"
   ]
  }
 ],
 "metadata": {
  "kernelspec": {
   "display_name": "Python 3",
   "language": "python",
   "name": "python3"
  },
  "language_info": {
   "codemirror_mode": {
    "name": "ipython",
    "version": 3
   },
   "file_extension": ".py",
   "mimetype": "text/x-python",
   "name": "python",
   "nbconvert_exporter": "python",
   "pygments_lexer": "ipython3",
   "version": "3.8.8"
  }
 },
 "nbformat": 4,
 "nbformat_minor": 5
}
