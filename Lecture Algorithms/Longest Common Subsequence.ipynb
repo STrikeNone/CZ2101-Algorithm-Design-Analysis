{
 "cells": [
  {
   "cell_type": "code",
   "execution_count": 32,
   "id": "cfc4d51d",
   "metadata": {},
   "outputs": [],
   "source": [
    "def LCS(string1, string2):\n",
    "    l1 = len(string1) + 1\n",
    "    l2 = len(string2) + 1\n",
    "    \n",
    "    matrix = [[0 for i in range(l2)] for j in range(l1)] # Creates a matrix of l1 x l2\n",
    "    direction = [['-' for i in range(l2)] for j in range(l1)]\n",
    "    \n",
    "    for i in range(l1):\n",
    "        for j in range(l2):\n",
    "            if i == 0 or j == 0:\n",
    "                matrix[i][j] = 0\n",
    "                if j == 0 and i != 0:\n",
    "                    direction[i][j] = '|'\n",
    "            \n",
    "            elif string1[i-1] == string2[j-1]:\n",
    "                matrix[i][j] = 1 + matrix[i-1][j-1]\n",
    "                direction[i][j] = \"\\\\\"\n",
    "                \n",
    "            else:\n",
    "                if matrix[i-1][j] >= matrix[i][j-1]:\n",
    "                    matrix[i][j] = matrix[i-1][j]\n",
    "                    direction[i][j] = \"|\"\n",
    "                else:\n",
    "                    matrix[i][j] = matrix[i][j-1]\n",
    "                    direction[i][j] = \"-\"\n",
    "                    \n",
    "    return matrix[i][j], direction"
   ]
  },
  {
   "cell_type": "code",
   "execution_count": 43,
   "id": "2c11f671",
   "metadata": {},
   "outputs": [
    {
     "name": "stdout",
     "output_type": "stream",
     "text": [
      "Longest common substring is: ACG of length 3\n"
     ]
    }
   ],
   "source": [
    "s1 = \"ACGGA\"\n",
    "s2 = \"ACTG\"\n",
    "length, direction = LCS(s1, s2)\n",
    "i = len(s1)\n",
    "j = len(s2)\n",
    "result = \"\"\n",
    "\n",
    "while i != 0 or j != 0:\n",
    "    if(direction[i][j] == \"\\\\\"):\n",
    "        result = s1[i-1] + result\n",
    "        i-=1\n",
    "        j-=1\n",
    "    \n",
    "    elif(direction[i][j] == \"|\"):\n",
    "        i-=1\n",
    "        \n",
    "    else:\n",
    "        j-=1\n",
    "        \n",
    "print(\"Longest common substring is:\", result, \"of length\", length)"
   ]
  },
  {
   "cell_type": "code",
   "execution_count": null,
   "id": "047c8305",
   "metadata": {},
   "outputs": [],
   "source": []
  },
  {
   "cell_type": "code",
   "execution_count": null,
   "id": "4a5d33ca",
   "metadata": {},
   "outputs": [],
   "source": []
  }
 ],
 "metadata": {
  "kernelspec": {
   "display_name": "Python 3",
   "language": "python",
   "name": "python3"
  },
  "language_info": {
   "codemirror_mode": {
    "name": "ipython",
    "version": 3
   },
   "file_extension": ".py",
   "mimetype": "text/x-python",
   "name": "python",
   "nbconvert_exporter": "python",
   "pygments_lexer": "ipython3",
   "version": "3.8.8"
  }
 },
 "nbformat": 4,
 "nbformat_minor": 5
}
