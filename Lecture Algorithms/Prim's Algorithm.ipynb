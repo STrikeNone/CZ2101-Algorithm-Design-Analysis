{
 "cells": [
  {
   "cell_type": "code",
   "execution_count": 57,
   "id": "2d1b153e",
   "metadata": {},
   "outputs": [
    {
     "name": "stdout",
     "output_type": "stream",
     "text": [
      "0 to 1 with weight 2\n",
      "1 to 2 with weight 1\n",
      "2 to 4 with weight 1\n",
      "1 to 3 with weight 3\n",
      "Total Minimum Weight: 7\n"
     ]
    }
   ],
   "source": [
    "class Graph:\n",
    "    \n",
    "    def __init__(self, vertices):\n",
    "        self.V = vertices\n",
    "        self.graph = []\n",
    "        self.pq = []\n",
    "        \n",
    "    def addEdge(self, v, w, weight):\n",
    "        self.graph.append([v, w, weight])\n",
    "        self.graph.append([w, v, weight])\n",
    "        \n",
    "    def insert(self, s, S):\n",
    "        for v, w, weight in self.graph:\n",
    "            if(v == s and S[w] == 0):\n",
    "                self.pq.append((s, w, weight))\n",
    "                \n",
    "        self.pq = sorted(self.pq, key=lambda item: item[2])\n",
    "        \n",
    "    def extractMin(self, S):\n",
    "        u = self.pq.pop(0)\n",
    "        while len(self.pq) != 0 and S[u[1]] == 1:\n",
    "            u = self.pq.pop(0)\n",
    "        \n",
    "        return u if S[u[1]] == 0 else (None, None, None)\n",
    "        \n",
    "\n",
    "    def PrimMST(self, s):\n",
    "        F = [] # Contains the result\n",
    "        min_weight = 0\n",
    "        S = [0 for i in range(self.V)]\n",
    "        S[s] = 1\n",
    "        self.insert(s, S)\n",
    "        while(len(self.pq) != 0):\n",
    "            s, u, weight = self.extractMin(S)\n",
    "            if(s == None):\n",
    "                break\n",
    "            print('{} to {} with weight {}'.format(s, u, weight))\n",
    "            F.append((s, u, weight))\n",
    "            min_weight += weight\n",
    "            S[u] = 1\n",
    "            self.insert(u, S)\n",
    "        \n",
    " \n",
    "        print(\"Total Minimum Weight: {}\".format(min_weight))\n",
    "        return\n",
    "\n",
    "g = Graph(5)\n",
    "g.addEdge(0, 1, 2)\n",
    "g.addEdge(0, 2, 3)\n",
    "g.addEdge(1, 2, 1)\n",
    "g.addEdge(1, 3, 3)\n",
    "g.addEdge(1, 4, 2)\n",
    "g.addEdge(2, 4, 1)\n",
    "g.addEdge(3, 4, 5)\n",
    "g.PrimMST(0)"
   ]
  },
  {
   "cell_type": "code",
   "execution_count": null,
   "id": "f3ff6734",
   "metadata": {},
   "outputs": [],
   "source": []
  }
 ],
 "metadata": {
  "kernelspec": {
   "display_name": "Python 3",
   "language": "python",
   "name": "python3"
  },
  "language_info": {
   "codemirror_mode": {
    "name": "ipython",
    "version": 3
   },
   "file_extension": ".py",
   "mimetype": "text/x-python",
   "name": "python",
   "nbconvert_exporter": "python",
   "pygments_lexer": "ipython3",
   "version": "3.8.8"
  }
 },
 "nbformat": 4,
 "nbformat_minor": 5
}
