{
 "cells": [
  {
   "cell_type": "code",
   "execution_count": 4,
   "id": "160cd6af",
   "metadata": {},
   "outputs": [
    {
     "name": "stdout",
     "output_type": "stream",
     "text": [
      "1 to 2 with weight 1\n",
      "2 to 4 with weight 1\n",
      "0 to 1 with weight 2\n",
      "1 to 3 with weight 3\n",
      "Total Minimum Weight: 7\n"
     ]
    }
   ],
   "source": [
    "class Graph:\n",
    "    \n",
    "    def __init__(self, vertices):\n",
    "        self.V = vertices\n",
    "        self.graph = []\n",
    "        \n",
    "    def addEdge(self, v, w, weight):\n",
    "        self.graph.append([v, w, weight])\n",
    "        \n",
    "    def find(self, parent, v):\n",
    "        oldParent = parent[v]\n",
    "        if oldParent == -1:\n",
    "            return v\n",
    "        else:\n",
    "            root = self.find(parent, oldParent)\n",
    "            if(oldParent != root):\n",
    "                parent[v] = root\n",
    "            return root\n",
    "        \n",
    "        \n",
    "    def union(self, parent, rank, v, w):\n",
    "        xroot = self.find(parent, v)\n",
    "        yroot = self.find(parent, w)\n",
    "        \n",
    "        if(rank[xroot] < rank[yroot]):\n",
    "            parent[xroot] = yroot\n",
    "            \n",
    "        elif(rank[xroot] > rank[yroot]):\n",
    "            parent[yroot] = xroot\n",
    "        \n",
    "        else:\n",
    "            parent[xroot] = yroot\n",
    "            yroot+=1\n",
    "        \n",
    "        \n",
    "    def KruskalMST(self):\n",
    "        F = [] # Contains the result\n",
    "        i = 0\n",
    "        e = 0\n",
    "        \n",
    "        self.graph = sorted(self.graph, key=lambda item: item[2])\n",
    "        parent = [-1 for node in range(self.V)]\n",
    "        rank = [0 for node in range(self.V)]\n",
    "        \n",
    "        while e < self.V - 1:\n",
    "            v, w, weight = self.graph[i]\n",
    "            i = i+1\n",
    "            frm = self.find(parent, v)\n",
    "            to = self.find(parent, w)\n",
    "            \n",
    "            if(frm != to):\n",
    "                e = e + 1\n",
    "                F.append([v, w, weight])\n",
    "                self.union(parent, rank, v, w)\n",
    "        \n",
    "        min_weight = 0\n",
    "        for v, w, weight in F:\n",
    "            min_weight+=weight\n",
    "            print('{} to {} with weight {}'.format(v, w, weight))\n",
    "        \n",
    "        print(\"Total Minimum Weight: {}\".format(min_weight))\n",
    "        return\n",
    "\n",
    "g = Graph(5)\n",
    "g.addEdge(0, 1, 2)\n",
    "g.addEdge(0, 2, 3)\n",
    "g.addEdge(1, 2, 1)\n",
    "g.addEdge(1, 3, 3)\n",
    "g.addEdge(1, 4, 2)\n",
    "g.addEdge(2, 4, 1)\n",
    "g.addEdge(3, 4, 5)\n",
    "g.KruskalMST()"
   ]
  },
  {
   "cell_type": "code",
   "execution_count": null,
   "id": "15fda127",
   "metadata": {},
   "outputs": [],
   "source": []
  },
  {
   "cell_type": "code",
   "execution_count": null,
   "id": "ffc4538c",
   "metadata": {},
   "outputs": [],
   "source": []
  },
  {
   "cell_type": "code",
   "execution_count": null,
   "id": "bfcc2860",
   "metadata": {},
   "outputs": [],
   "source": []
  },
  {
   "cell_type": "code",
   "execution_count": null,
   "id": "c1f974b1",
   "metadata": {},
   "outputs": [],
   "source": []
  },
  {
   "cell_type": "code",
   "execution_count": null,
   "id": "dba210fb",
   "metadata": {},
   "outputs": [],
   "source": []
  },
  {
   "cell_type": "code",
   "execution_count": null,
   "id": "dab7e2ce",
   "metadata": {},
   "outputs": [],
   "source": []
  },
  {
   "cell_type": "code",
   "execution_count": null,
   "id": "7e6f6cb2",
   "metadata": {},
   "outputs": [],
   "source": []
  },
  {
   "cell_type": "code",
   "execution_count": null,
   "id": "d04e3cbe",
   "metadata": {},
   "outputs": [],
   "source": []
  },
  {
   "cell_type": "code",
   "execution_count": null,
   "id": "eadb8eaf",
   "metadata": {},
   "outputs": [],
   "source": []
  }
 ],
 "metadata": {
  "kernelspec": {
   "display_name": "Python 3",
   "language": "python",
   "name": "python3"
  },
  "language_info": {
   "codemirror_mode": {
    "name": "ipython",
    "version": 3
   },
   "file_extension": ".py",
   "mimetype": "text/x-python",
   "name": "python",
   "nbconvert_exporter": "python",
   "pygments_lexer": "ipython3",
   "version": "3.8.8"
  }
 },
 "nbformat": 4,
 "nbformat_minor": 5
}
